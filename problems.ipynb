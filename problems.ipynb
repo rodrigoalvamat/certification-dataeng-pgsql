{
 "cells": [
  {
   "cell_type": "code",
   "execution_count": 118,
   "metadata": {},
   "outputs": [],
   "source": [
    "# system libs\n",
    "import glob\n",
    "import os\n",
    "\n",
    "# etl/eda libs\n",
    "import pandas as pd"
   ]
  },
  {
   "cell_type": "markdown",
   "metadata": {},
   "source": [
    "#### 1. Get a list of JSON files in the folder and subfolders"
   ]
  },
  {
   "cell_type": "code",
   "execution_count": 119,
   "metadata": {},
   "outputs": [],
   "source": [
    "def get_files(folder):\n",
    "    all_files = []\n",
    "    for root, dirs, files in os.walk(folder):\n",
    "        files = glob.glob(os.path.join(root,'*.json'))\n",
    "        for f in files :\n",
    "            all_files.append(os.path.abspath(f))\n",
    "    \n",
    "    return all_files"
   ]
  },
  {
   "cell_type": "markdown",
   "metadata": {},
   "source": [
    "#### 2. Get a concatenated DataFrame of all JSON files in the list"
   ]
  },
  {
   "cell_type": "code",
   "execution_count": 120,
   "metadata": {},
   "outputs": [],
   "source": [
    "def get_data(files):\n",
    "    dfs = []\n",
    "    for f in files:\n",
    "        df = pd.read_json(f, lines=True)\n",
    "        dfs.append(df)\n",
    "    \n",
    "    return pd.concat(dfs, ignore_index=True)"
   ]
  },
  {
   "cell_type": "markdown",
   "metadata": {},
   "source": [
    "#### 3. Get the DataFrame for all JSON files in the folder ```'data/song_data'```"
   ]
  },
  {
   "cell_type": "code",
   "execution_count": 121,
   "metadata": {},
   "outputs": [
    {
     "name": "stdout",
     "output_type": "stream",
     "text": [
      "Number of songs: 71\n"
     ]
    },
    {
     "data": {
      "text/html": [
       "<div>\n",
       "<style scoped>\n",
       "    .dataframe tbody tr th:only-of-type {\n",
       "        vertical-align: middle;\n",
       "    }\n",
       "\n",
       "    .dataframe tbody tr th {\n",
       "        vertical-align: top;\n",
       "    }\n",
       "\n",
       "    .dataframe thead th {\n",
       "        text-align: right;\n",
       "    }\n",
       "</style>\n",
       "<table border=\"1\" class=\"dataframe\">\n",
       "  <thead>\n",
       "    <tr style=\"text-align: right;\">\n",
       "      <th></th>\n",
       "      <th>num_songs</th>\n",
       "      <th>artist_id</th>\n",
       "      <th>artist_latitude</th>\n",
       "      <th>artist_longitude</th>\n",
       "      <th>artist_location</th>\n",
       "      <th>artist_name</th>\n",
       "      <th>song_id</th>\n",
       "      <th>title</th>\n",
       "      <th>duration</th>\n",
       "      <th>year</th>\n",
       "    </tr>\n",
       "  </thead>\n",
       "  <tbody>\n",
       "    <tr>\n",
       "      <th>0</th>\n",
       "      <td>1</td>\n",
       "      <td>ARNF6401187FB57032</td>\n",
       "      <td>40.79086</td>\n",
       "      <td>-73.96644</td>\n",
       "      <td>New York, NY [Manhattan]</td>\n",
       "      <td>Sophie B. Hawkins</td>\n",
       "      <td>SONWXQJ12A8C134D94</td>\n",
       "      <td>The Ballad Of Sleeping Beauty</td>\n",
       "      <td>305.16200</td>\n",
       "      <td>1994</td>\n",
       "    </tr>\n",
       "    <tr>\n",
       "      <th>1</th>\n",
       "      <td>1</td>\n",
       "      <td>ARVBRGZ1187FB4675A</td>\n",
       "      <td>NaN</td>\n",
       "      <td>NaN</td>\n",
       "      <td></td>\n",
       "      <td>Gwen Stefani</td>\n",
       "      <td>SORRZGD12A6310DBC3</td>\n",
       "      <td>Harajuku Girls</td>\n",
       "      <td>290.55955</td>\n",
       "      <td>2004</td>\n",
       "    </tr>\n",
       "  </tbody>\n",
       "</table>\n",
       "</div>"
      ],
      "text/plain": [
       "   num_songs           artist_id  artist_latitude  artist_longitude  \\\n",
       "0          1  ARNF6401187FB57032         40.79086         -73.96644   \n",
       "1          1  ARVBRGZ1187FB4675A              NaN               NaN   \n",
       "\n",
       "            artist_location        artist_name             song_id  \\\n",
       "0  New York, NY [Manhattan]  Sophie B. Hawkins  SONWXQJ12A8C134D94   \n",
       "1                                 Gwen Stefani  SORRZGD12A6310DBC3   \n",
       "\n",
       "                           title   duration  year  \n",
       "0  The Ballad Of Sleeping Beauty  305.16200  1994  \n",
       "1                 Harajuku Girls  290.55955  2004  "
      ]
     },
     "execution_count": 121,
     "metadata": {},
     "output_type": "execute_result"
    }
   ],
   "source": [
    "song_files = get_files('data/song_data')\n",
    "song_df = get_data(song_files)\n",
    "\n",
    "print(f'Number of songs: {song_df.shape[0]}')\n",
    "song_df.head(2)"
   ]
  },
  {
   "cell_type": "markdown",
   "metadata": {},
   "source": [
    "#### 4. Trim all song strings to avoid query mismatch"
   ]
  },
  {
   "cell_type": "code",
   "execution_count": 122,
   "metadata": {},
   "outputs": [],
   "source": [
    "strings = list(song_df.select_dtypes(include=['object']).columns)\n",
    "song_df[strings] = song_df[strings].apply(lambda x: x.str.strip())"
   ]
  },
  {
   "cell_type": "markdown",
   "metadata": {},
   "source": [
    "#### 5. Look for duplicates on the sensitive columns"
   ]
  },
  {
   "cell_type": "code",
   "execution_count": 123,
   "metadata": {},
   "outputs": [
    {
     "name": "stdout",
     "output_type": "stream",
     "text": [
      "Duplicate song_id: 0\n",
      "Duplicate title: 0\n",
      "Duplicate artist_id: 2\n",
      "Duplicate artist_name: 2\n",
      "Duplicate duration: 0\n"
     ]
    }
   ],
   "source": [
    "check = ['song_id', 'title', 'artist_id', 'artist_name', 'duration']\n",
    "for column in check:\n",
    "    duplicates = song_df.duplicated(subset=[column], keep=\"first\").sum()\n",
    "    print(f'Duplicate {column}: {duplicates}')"
   ]
  },
  {
   "cell_type": "markdown",
   "metadata": {},
   "source": [
    "#### 6. Get the DataFrame for all JSON files in the folder ```'data/log_data'```"
   ]
  },
  {
   "cell_type": "code",
   "execution_count": 124,
   "metadata": {},
   "outputs": [
    {
     "name": "stdout",
     "output_type": "stream",
     "text": [
      "Number of songplays: 6820\n"
     ]
    },
    {
     "data": {
      "text/html": [
       "<div>\n",
       "<style scoped>\n",
       "    .dataframe tbody tr th:only-of-type {\n",
       "        vertical-align: middle;\n",
       "    }\n",
       "\n",
       "    .dataframe tbody tr th {\n",
       "        vertical-align: top;\n",
       "    }\n",
       "\n",
       "    .dataframe thead th {\n",
       "        text-align: right;\n",
       "    }\n",
       "</style>\n",
       "<table border=\"1\" class=\"dataframe\">\n",
       "  <thead>\n",
       "    <tr style=\"text-align: right;\">\n",
       "      <th></th>\n",
       "      <th>artist</th>\n",
       "      <th>auth</th>\n",
       "      <th>firstName</th>\n",
       "      <th>gender</th>\n",
       "      <th>itemInSession</th>\n",
       "      <th>lastName</th>\n",
       "      <th>length</th>\n",
       "      <th>level</th>\n",
       "      <th>location</th>\n",
       "      <th>method</th>\n",
       "      <th>page</th>\n",
       "      <th>registration</th>\n",
       "      <th>sessionId</th>\n",
       "      <th>song</th>\n",
       "      <th>status</th>\n",
       "      <th>ts</th>\n",
       "      <th>userAgent</th>\n",
       "      <th>userId</th>\n",
       "      <th>time_data</th>\n",
       "    </tr>\n",
       "  </thead>\n",
       "  <tbody>\n",
       "    <tr>\n",
       "      <th>0</th>\n",
       "      <td>The Killers</td>\n",
       "      <td>Logged In</td>\n",
       "      <td>Jayden</td>\n",
       "      <td>M</td>\n",
       "      <td>32</td>\n",
       "      <td>Graves</td>\n",
       "      <td>246.80444</td>\n",
       "      <td>paid</td>\n",
       "      <td>Marinette, WI-MI</td>\n",
       "      <td>PUT</td>\n",
       "      <td>NextSong</td>\n",
       "      <td>1.540664e+12</td>\n",
       "      <td>594</td>\n",
       "      <td>Read My Mind</td>\n",
       "      <td>200</td>\n",
       "      <td>2018-11-20 00:00:42.796</td>\n",
       "      <td>\"Mozilla/5.0 (Windows NT 6.3; WOW64) AppleWebK...</td>\n",
       "      <td>25</td>\n",
       "      <td>[2018-11-20 00:00:42.796000, 0, 20, 47, 11, 20...</td>\n",
       "    </tr>\n",
       "    <tr>\n",
       "      <th>1</th>\n",
       "      <td>Tamia</td>\n",
       "      <td>Logged In</td>\n",
       "      <td>Jayden</td>\n",
       "      <td>M</td>\n",
       "      <td>33</td>\n",
       "      <td>Graves</td>\n",
       "      <td>243.09506</td>\n",
       "      <td>paid</td>\n",
       "      <td>Marinette, WI-MI</td>\n",
       "      <td>PUT</td>\n",
       "      <td>NextSong</td>\n",
       "      <td>1.540664e+12</td>\n",
       "      <td>594</td>\n",
       "      <td>Officially Missing You (Radio Version)</td>\n",
       "      <td>200</td>\n",
       "      <td>2018-11-20 00:04:48.796</td>\n",
       "      <td>\"Mozilla/5.0 (Windows NT 6.3; WOW64) AppleWebK...</td>\n",
       "      <td>25</td>\n",
       "      <td>[2018-11-20 00:04:48.796000, 0, 20, 47, 11, 20...</td>\n",
       "    </tr>\n",
       "  </tbody>\n",
       "</table>\n",
       "</div>"
      ],
      "text/plain": [
       "        artist       auth firstName gender  itemInSession lastName     length  \\\n",
       "0  The Killers  Logged In    Jayden      M             32   Graves  246.80444   \n",
       "1        Tamia  Logged In    Jayden      M             33   Graves  243.09506   \n",
       "\n",
       "  level          location method      page  registration  sessionId  \\\n",
       "0  paid  Marinette, WI-MI    PUT  NextSong  1.540664e+12        594   \n",
       "1  paid  Marinette, WI-MI    PUT  NextSong  1.540664e+12        594   \n",
       "\n",
       "                                     song  status                      ts  \\\n",
       "0                            Read My Mind     200 2018-11-20 00:00:42.796   \n",
       "1  Officially Missing You (Radio Version)     200 2018-11-20 00:04:48.796   \n",
       "\n",
       "                                           userAgent userId  \\\n",
       "0  \"Mozilla/5.0 (Windows NT 6.3; WOW64) AppleWebK...     25   \n",
       "1  \"Mozilla/5.0 (Windows NT 6.3; WOW64) AppleWebK...     25   \n",
       "\n",
       "                                           time_data  \n",
       "0  [2018-11-20 00:00:42.796000, 0, 20, 47, 11, 20...  \n",
       "1  [2018-11-20 00:04:48.796000, 0, 20, 47, 11, 20...  "
      ]
     },
     "execution_count": 124,
     "metadata": {},
     "output_type": "execute_result"
    }
   ],
   "source": [
    "log_files = get_files('data/log_data')\n",
    "log_df = get_data(log_files)\n",
    "\n",
    "log_df = log_df[log_df['page'] == 'NextSong']\n",
    "log_df['ts'] = pd.to_datetime(log_df['ts'], unit='ms')\n",
    "log_df['time_data'] = log_df['ts'].apply(lambda x: [x, x.hour, x.day, x.week, x.month, x.year, x.day_name()])\n",
    "\n",
    "print(f'Number of songplays: {log_df.shape[0]}')\n",
    "log_df.head(2)"
   ]
  },
  {
   "cell_type": "markdown",
   "metadata": {},
   "source": [
    "#### 7. Trim all songplay strings to avoid query mismatch"
   ]
  },
  {
   "cell_type": "code",
   "execution_count": 125,
   "metadata": {},
   "outputs": [],
   "source": [
    "strings = list(log_df.select_dtypes(include=['object']).columns)\n",
    "log_df[strings] = log_df[strings].apply(lambda x: x.str.strip())"
   ]
  },
  {
   "cell_type": "markdown",
   "metadata": {},
   "source": [
    "#### 8. Look for duplicates on the sensitive columns"
   ]
  },
  {
   "cell_type": "code",
   "execution_count": 126,
   "metadata": {},
   "outputs": [
    {
     "name": "stdout",
     "output_type": "stream",
     "text": [
      "Duplicate song: 1631\n",
      "Duplicate artist: 3672\n",
      "Duplicate length: 2826\n",
      "Duplicate combined: 1496\n"
     ]
    }
   ],
   "source": [
    "check = ['song', 'artist', 'length']\n",
    "for column in check:\n",
    "    duplicates = log_df.duplicated(subset=[column], keep=\"first\").sum()\n",
    "    print(f'Duplicate {column}: {duplicates}')\n",
    "\n",
    "print(f'Duplicate combined: {log_df.duplicated(subset=check, keep=\"first\").sum()}')"
   ]
  },
  {
   "cell_type": "markdown",
   "metadata": {},
   "source": [
    "#### 9. Check if all necessary data types match"
   ]
  },
  {
   "cell_type": "code",
   "execution_count": 127,
   "metadata": {},
   "outputs": [
    {
     "name": "stdout",
     "output_type": "stream",
     "text": [
      "[dtype('O'), dtype('O'), dtype('float64')]\n",
      "[dtype('O'), dtype('O'), dtype('float64')]\n"
     ]
    }
   ],
   "source": [
    "print(log_df[['song', 'artist', 'length']].dtypes.tolist())\n",
    "print(song_df[['title', 'artist_name', 'duration']].dtypes.tolist())"
   ]
  },
  {
   "cell_type": "markdown",
   "metadata": {},
   "source": [
    "#### 10. Simulates the ```song_select``` query\n",
    "\n",
    "- Iterate over all log_df DataFrame as proposed by the ETL process.\n",
    "- Uses a loc filter to compare row.song, row.artist and row.length like the SQL WHERE statement.\n",
    "- Counts the results that match and the empty ones.\n",
    "\n",
    "~~~~sql\n",
    "    SELECT s.song_id, a.artist_id\n",
    "    FROM songs s\n",
    "    JOIN artists a\n",
    "    ON s.artist_id = a.artist_id\n",
    "    WHERE s.title = %s AND a.name = %s AND s.duration = %s;\n",
    "~~~~"
   ]
  },
  {
   "cell_type": "code",
   "execution_count": 128,
   "metadata": {},
   "outputs": [
    {
     "name": "stdout",
     "output_type": "stream",
     "text": [
      "Empty: 6819 Matches: 1\n"
     ]
    }
   ],
   "source": [
    "empty = 0\n",
    "matches = 0\n",
    "\n",
    "for index, row in log_df.iterrows():\n",
    "    result = song_df.loc[(song_df['title'] == row.song) & (song_df['artist_name'] == row.artist) & (song_df['duration'] == row.length)]\n",
    "\n",
    "    if result.empty:\n",
    "        empty += 1\n",
    "    else:\n",
    "        matches += 1\n",
    "\n",
    "print(f'Empty: {empty} Matches: {matches}')"
   ]
  },
  {
   "cell_type": "markdown",
   "metadata": {},
   "source": [
    "#### 12. Results\n",
    "\n",
    "- The solution shown in this notebook confirm the existence of a problem in the dataset provided for this project.\n",
    "- There is only one match between a songplay (log_data) and the entire song table (song_data).\n",
    "- The result of running the code below is a songplay table with 6819 null values ​​for the song_id and artist_id columns.\n",
    "\n",
    "~~~~python\n",
    "    # insert songplay records\n",
    "    for index, row in df.iterrows():\n",
    "        \n",
    "        # get songid and artistid from song and artist tables\n",
    "        cur.execute(song_select, (row.song, row.artist, row.length))\n",
    "        results = cur.fetchone()\n",
    "        \n",
    "        if results:\n",
    "            songid, artistid = results\n",
    "        else:\n",
    "            songid, artistid = None, None\n",
    "\n",
    "        # insert songplay record\n",
    "        songplay_data = [row.level, row.location, row.userAgent, artistid, row.sessionId, songid, row.ts, row.userId]\n",
    "        cur.execute(songplay_table_insert, songplay_data)\n",
    "~~~~\n"
   ]
  }
 ],
 "metadata": {
  "interpreter": {
   "hash": "d47df541592af340dce933e7169349dc2df4da248e87c9a46187cbe39a8376b2"
  },
  "kernelspec": {
   "display_name": "Python 3.10.4 ('py310')",
   "language": "python",
   "name": "python3"
  },
  "language_info": {
   "codemirror_mode": {
    "name": "ipython",
    "version": 3
   },
   "file_extension": ".py",
   "mimetype": "text/x-python",
   "name": "python",
   "nbconvert_exporter": "python",
   "pygments_lexer": "ipython3",
   "version": "3.10.4"
  },
  "orig_nbformat": 4
 },
 "nbformat": 4,
 "nbformat_minor": 2
}
